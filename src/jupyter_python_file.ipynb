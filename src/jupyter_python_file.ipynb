{
 "cells": [
  {
   "cell_type": "code",
   "execution_count": 1,
   "metadata": {},
   "outputs": [
    {
     "name": "stdout",
     "output_type": "stream",
     "text": [
      "       ID                                 name  \\\n",
      "0   12345       Toyota Fortuner Legender  2022   \n",
      "1   12346  Toyota Premio X EX Package 1.8 2018   \n",
      "2   12347    Honda City Aspire 1.3 i-VTEC 2016   \n",
      "3   12348         Suzuki Bolan VX Euro II 2018   \n",
      "4   12349            Suzuki Swift GLX CVT 2022   \n",
      "..    ...                                  ...   \n",
      "95  12440               Suzuki Mehran VXR 2003   \n",
      "96  12441     Toyota Corolla GLi 1.3 VVTi 2017   \n",
      "97  12442       Honda Civic VTi Oriel 1.6 2003   \n",
      "98  12443             Nissan Wingroad 15M 2006   \n",
      "99  12444        Toyota Corolla DX Saloon 1986   \n",
      "\n",
      "                                location  model_year  mileage engine_type  \\\n",
      "0              I- 8, Islamabad Islamabad        2022        5      Diesel   \n",
      "1                 Askari 6, Peshawar KPK        2018    17000      Petrol   \n",
      "2              I- 8, Islamabad Islamabad        2016    59000      Petrol   \n",
      "3   Dhok Sayedan Road, Rawalpindi Punjab        2018    55000      Petrol   \n",
      "4                          Karachi Sindh        2022        2      Petrol   \n",
      "..                                   ...         ...      ...         ...   \n",
      "95            EME Society, Lahore Punjab        2003    32500      Petrol   \n",
      "96     Fateh Sher Colony, Sahiwal Punjab        2017    85000      Petrol   \n",
      "97     Khurram Colony, Rawalpindi Punjab        2003   102000      Petrol   \n",
      "98             GT Road, Wah cantt Punjab        2006   190000      Petrol   \n",
      "99                   Islamabad Islamabad        1986    10000      Petrol   \n",
      "\n",
      "   transmission  registered_in        color  assembly  engine_capacity  \\\n",
      "0     Automatic  Un-Registered        White     Local           2800.0   \n",
      "1     Automatic  Un-Registered  Peral White  Imported           1800.0   \n",
      "2        Manual      Islamabad        White     Local           1300.0   \n",
      "3        Manual      Islamabad        White     Local            800.0   \n",
      "4     Automatic          Sindh         Grey     Local           1200.0   \n",
      "..          ...            ...          ...       ...              ...   \n",
      "95       Manual         Lahore       Silver     Local            800.0   \n",
      "96       Manual         Lahore        Black     Local           1300.0   \n",
      "97       Manual     Rawalpindi        Black     Local           1600.0   \n",
      "98    Automatic      Islamabad         Grey  Imported           1500.0   \n",
      "99       Manual      Islamabad       Silver  Imported           1300.0   \n",
      "\n",
      "        body_type                                other_features_list  \\\n",
      "0             SUV  ABS,AM/FM Radio,Air Bags,Air Conditioning,Allo...   \n",
      "1           Sedan  ABS,AM/FM Radio,Air Bags,Air Conditioning,Allo...   \n",
      "2           Sedan  ABS,AM/FM Radio,Air Conditioning,Alloy Rims,CD...   \n",
      "3             Van                        AM/FM Radio,Immobilizer Key   \n",
      "4       Hatchback  ABS,AM/FM Radio,Air Bags,Air Conditioning,Allo...   \n",
      "..            ...                                                ...   \n",
      "95      Hatchback                                   Air Conditioning   \n",
      "96          Sedan  ABS,AM/FM Radio,Air Bags,Air Conditioning,Allo...   \n",
      "97          Sedan  ABS,AM/FM Radio,Air Conditioning,Alloy Rims,CD...   \n",
      "98  Station Wagon  ABS,AM/FM Radio,Air Bags,Air Conditioning,Allo...   \n",
      "99          Sedan        AM/FM Radio,Air Conditioning,Power Steering   \n",
      "\n",
      "                                                  url      price  \n",
      "0   https://www.pakwheels.com/used-cars/toyota-for...        NaN  \n",
      "1   https://www.pakwheels.com/used-cars/toyota-pre...  8500000.0  \n",
      "2   https://www.pakwheels.com/used-cars/honda-city...  2375000.0  \n",
      "3   https://www.pakwheels.com/used-cars/suzuki-bol...  1050000.0  \n",
      "4   https://www.pakwheels.com/used-cars/suzuki-swi...  3550000.0  \n",
      "..                                                ...        ...  \n",
      "95  https://www.pakwheels.com/used-cars/suzuki-meh...   700000.0  \n",
      "96  https://www.pakwheels.com/used-cars/toyota-cor...  2945000.0  \n",
      "97  https://www.pakwheels.com/used-cars/honda-civi...  1150000.0  \n",
      "98  https://www.pakwheels.com/used-cars/nissan-win...  1570000.0  \n",
      "99  https://www.pakwheels.com/used-cars/toyota-cor...   690000.0  \n",
      "\n",
      "[100 rows x 15 columns]\n"
     ]
    }
   ],
   "source": [
    "from database.database import database\n",
    "\n",
    "db = database(driver='ODBC+Driver+17+for+SQL+Server',server='DESKTOP-OFNPJHO',database='PakistanUsedCars',trusted_connection='yes')\n",
    "query_file = rf\"C:\\Users\\tgmce\\OneDrive\\Desktop\\Data_Project_Framework\\src\\resources\\sql\\query_1.sql\"\n",
    "result = db.execute_query(query_file)\n",
    "\n",
    "print(result)"
   ]
  }
 ],
 "metadata": {
  "kernelspec": {
   "display_name": "Python 3",
   "language": "python",
   "name": "python3"
  },
  "language_info": {
   "codemirror_mode": {
    "name": "ipython",
    "version": 3
   },
   "file_extension": ".py",
   "mimetype": "text/x-python",
   "name": "python",
   "nbconvert_exporter": "python",
   "pygments_lexer": "ipython3",
   "version": "3.8.2"
  }
 },
 "nbformat": 4,
 "nbformat_minor": 2
}
