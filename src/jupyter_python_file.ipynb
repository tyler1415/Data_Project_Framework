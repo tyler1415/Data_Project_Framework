{
 "cells": [
  {
   "cell_type": "code",
   "execution_count": 3,
   "metadata": {},
   "outputs": [
    {
     "name": "stdout",
     "output_type": "stream",
     "text": [
      "(75899,)\n",
      "Done\n"
     ]
    }
   ],
   "source": [
    "import sqlalchemy\n",
    "from database.database import Database\n",
    "\n",
    "\n",
    "db = Database(driver='ODBC+Driver+17+for+SQL+Server',server='DESKTOP-OFNPJHO',database='PakistanUsedCars',trusted_connection='yes')\n",
    "engine = db.create_db_engine()\n",
    "\n",
    "# Test the connection by executing a simple query\n",
    "with engine.connect() as connection:\n",
    "    result = connection.execute(sqlalchemy.text(\"SELECT count(*) FROM UsedCarsFinal\"))\n",
    "    for row in result:\n",
    "        print(row)\n",
    "        print('Done')"
   ]
  }
 ],
 "metadata": {
  "kernelspec": {
   "display_name": "Python 3",
   "language": "python",
   "name": "python3"
  },
  "language_info": {
   "codemirror_mode": {
    "name": "ipython",
    "version": 3
   },
   "file_extension": ".py",
   "mimetype": "text/x-python",
   "name": "python",
   "nbconvert_exporter": "python",
   "pygments_lexer": "ipython3",
   "version": "3.8.2"
  }
 },
 "nbformat": 4,
 "nbformat_minor": 2
}
